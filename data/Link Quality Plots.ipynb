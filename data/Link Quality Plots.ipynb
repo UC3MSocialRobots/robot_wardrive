{
 "cells": [
  {
   "cell_type": "code",
   "execution_count": 1,
   "metadata": {
    "collapsed": false
   },
   "outputs": [],
   "source": [
    "import numpy as np\n",
    "import pandas as pd\n",
    "import toolz as tz\n",
    "import itertools as it\n",
    "import functools as ft\n",
    "\n",
    "import rospy\n",
    "from rosh import Bagy\n",
    "\n",
    "\n",
    "from robot_wardrive.msg import SignalLocation"
   ]
  },
  {
   "cell_type": "markdown",
   "metadata": {},
   "source": [
    "# Load Data"
   ]
  },
  {
   "cell_type": "code",
   "execution_count": 2,
   "metadata": {
    "collapsed": false
   },
   "outputs": [
    {
     "name": "stdout",
     "output_type": "stream",
     "text": [
      "2015-06-08-10-52_google.bagy  2015-06-08-10-52_signal_location.bagy\r\n",
      "2015-06-08-10-52_google.csv   2015-06-08-15-42_google.bagy\r\n",
      "2015-06-08-10-52_mpc.bagy     2015-06-08-15-42_mpc.bagy\r\n",
      "2015-06-08-10-52_mpc.csv\r\n"
     ]
    }
   ],
   "source": [
    "ls patrolling_2015-06-08/"
   ]
  },
  {
   "cell_type": "code",
   "execution_count": 3,
   "metadata": {
    "collapsed": false
   },
   "outputs": [],
   "source": [
    "msgs = None\n",
    "columns=['x', 'y', 'link', 'level', 'noise']\n",
    "# bagy_name = '2015-05-28_signal_location_trunkated.bagy'\n",
    "bagy_name = '2015-05-28_signal_location.bagy'\n",
    "with Bagy(bagy_name, 'r', SignalLocation) as bagy:\n",
    "    msgs = pd.DataFrame([(msg.pose.position.x, msg.pose.position.y, msg.link, msg.level, msg.noise) for msg in bagy], columns=columns)\n",
    "    \n",
    "\n",
    "        \n",
    "        \n",
    "        "
   ]
  },
  {
   "cell_type": "code",
   "execution_count": 4,
   "metadata": {
    "collapsed": false
   },
   "outputs": [
    {
     "data": {
      "text/html": [
       "<div style=\"max-height:1000px;max-width:1500px;overflow:auto;\">\n",
       "<table border=\"1\" class=\"dataframe\">\n",
       "  <thead>\n",
       "    <tr style=\"text-align: right;\">\n",
       "      <th></th>\n",
       "      <th>x</th>\n",
       "      <th>y</th>\n",
       "      <th>link</th>\n",
       "      <th>level</th>\n",
       "      <th>noise</th>\n",
       "    </tr>\n",
       "  </thead>\n",
       "  <tbody>\n",
       "    <tr>\n",
       "      <th>0</th>\n",
       "      <td> 11.803684</td>\n",
       "      <td> 86.801627</td>\n",
       "      <td> 44</td>\n",
       "      <td>-66</td>\n",
       "      <td>-256</td>\n",
       "    </tr>\n",
       "    <tr>\n",
       "      <th>1</th>\n",
       "      <td> 11.807398</td>\n",
       "      <td> 86.842084</td>\n",
       "      <td> 44</td>\n",
       "      <td>-66</td>\n",
       "      <td>-256</td>\n",
       "    </tr>\n",
       "    <tr>\n",
       "      <th>2</th>\n",
       "      <td> 11.802938</td>\n",
       "      <td> 87.034106</td>\n",
       "      <td> 47</td>\n",
       "      <td>-63</td>\n",
       "      <td>-256</td>\n",
       "    </tr>\n",
       "    <tr>\n",
       "      <th>3</th>\n",
       "      <td> 11.790895</td>\n",
       "      <td> 87.047752</td>\n",
       "      <td> 47</td>\n",
       "      <td>-63</td>\n",
       "      <td>-256</td>\n",
       "    </tr>\n",
       "    <tr>\n",
       "      <th>4</th>\n",
       "      <td> 11.797792</td>\n",
       "      <td> 87.251747</td>\n",
       "      <td> 46</td>\n",
       "      <td>-64</td>\n",
       "      <td>-256</td>\n",
       "    </tr>\n",
       "  </tbody>\n",
       "</table>\n",
       "</div>"
      ],
      "text/plain": [
       "           x          y  link  level  noise\n",
       "0  11.803684  86.801627    44    -66   -256\n",
       "1  11.807398  86.842084    44    -66   -256\n",
       "2  11.802938  87.034106    47    -63   -256\n",
       "3  11.790895  87.047752    47    -63   -256\n",
       "4  11.797792  87.251747    46    -64   -256"
      ]
     },
     "execution_count": 4,
     "metadata": {},
     "output_type": "execute_result"
    }
   ],
   "source": [
    "msgs.head()"
   ]
  },
  {
   "cell_type": "code",
   "execution_count": 5,
   "metadata": {
    "collapsed": false
   },
   "outputs": [
    {
     "data": {
      "text/html": [
       "<div style=\"max-height:1000px;max-width:1500px;overflow:auto;\">\n",
       "<table border=\"1\" class=\"dataframe\">\n",
       "  <thead>\n",
       "    <tr style=\"text-align: right;\">\n",
       "      <th></th>\n",
       "      <th>x</th>\n",
       "      <th>y</th>\n",
       "      <th>link</th>\n",
       "      <th>level</th>\n",
       "      <th>noise</th>\n",
       "    </tr>\n",
       "  </thead>\n",
       "  <tbody>\n",
       "    <tr>\n",
       "      <th>count</th>\n",
       "      <td> 5801.000000</td>\n",
       "      <td> 5801.000000</td>\n",
       "      <td> 5801.000000</td>\n",
       "      <td> 5801.000000</td>\n",
       "      <td> 5801.000000</td>\n",
       "    </tr>\n",
       "    <tr>\n",
       "      <th>mean</th>\n",
       "      <td>   12.271759</td>\n",
       "      <td>   62.765342</td>\n",
       "      <td>   48.435615</td>\n",
       "      <td>  -40.107740</td>\n",
       "      <td> -225.594208</td>\n",
       "    </tr>\n",
       "    <tr>\n",
       "      <th>std</th>\n",
       "      <td>    1.076137</td>\n",
       "      <td>   27.336545</td>\n",
       "      <td>   23.603894</td>\n",
       "      <td>   28.129533</td>\n",
       "      <td>   82.828457</td>\n",
       "    </tr>\n",
       "    <tr>\n",
       "      <th>min</th>\n",
       "      <td>    7.945095</td>\n",
       "      <td>    4.703987</td>\n",
       "      <td>    0.000000</td>\n",
       "      <td>  -87.000000</td>\n",
       "      <td> -256.000000</td>\n",
       "    </tr>\n",
       "    <tr>\n",
       "      <th>25%</th>\n",
       "      <td>   11.861756</td>\n",
       "      <td>   39.231444</td>\n",
       "      <td>   33.000000</td>\n",
       "      <td>  -70.000000</td>\n",
       "      <td> -256.000000</td>\n",
       "    </tr>\n",
       "    <tr>\n",
       "      <th>50%</th>\n",
       "      <td>   11.982055</td>\n",
       "      <td>   62.085303</td>\n",
       "      <td>   51.000000</td>\n",
       "      <td>  -23.000000</td>\n",
       "      <td> -256.000000</td>\n",
       "    </tr>\n",
       "    <tr>\n",
       "      <th>75%</th>\n",
       "      <td>   12.174500</td>\n",
       "      <td>   87.081846</td>\n",
       "      <td>   70.000000</td>\n",
       "      <td>  -20.000000</td>\n",
       "      <td> -256.000000</td>\n",
       "    </tr>\n",
       "    <tr>\n",
       "      <th>max</th>\n",
       "      <td>   18.140359</td>\n",
       "      <td>  109.040471</td>\n",
       "      <td>   70.000000</td>\n",
       "      <td>    0.000000</td>\n",
       "      <td>    0.000000</td>\n",
       "    </tr>\n",
       "  </tbody>\n",
       "</table>\n",
       "</div>"
      ],
      "text/plain": [
       "                 x            y         link        level        noise\n",
       "count  5801.000000  5801.000000  5801.000000  5801.000000  5801.000000\n",
       "mean     12.271759    62.765342    48.435615   -40.107740  -225.594208\n",
       "std       1.076137    27.336545    23.603894    28.129533    82.828457\n",
       "min       7.945095     4.703987     0.000000   -87.000000  -256.000000\n",
       "25%      11.861756    39.231444    33.000000   -70.000000  -256.000000\n",
       "50%      11.982055    62.085303    51.000000   -23.000000  -256.000000\n",
       "75%      12.174500    87.081846    70.000000   -20.000000  -256.000000\n",
       "max      18.140359   109.040471    70.000000     0.000000     0.000000"
      ]
     },
     "execution_count": 5,
     "metadata": {},
     "output_type": "execute_result"
    }
   ],
   "source": [
    "msgs.describe()"
   ]
  },
  {
   "cell_type": "markdown",
   "metadata": {},
   "source": [
    "# Plots"
   ]
  },
  {
   "cell_type": "markdown",
   "metadata": {},
   "source": [
    "#Rounding "
   ]
  },
  {
   "cell_type": "markdown",
   "metadata": {},
   "source": [
    "Rounding messages to a meter resolution and geting median link or each square meter."
   ]
  },
  {
   "cell_type": "code",
   "execution_count": 29,
   "metadata": {
    "collapsed": false
   },
   "outputs": [],
   "source": [
    "rounded = msgs.apply(np.round, decimals=1)\n",
    "rounded.groupby(['x', 'y']).median().reset_index(inplace=True)\n",
    "#rounded['link'] = rounded['link'] * -1"
   ]
  },
  {
   "cell_type": "markdown",
   "metadata": {},
   "source": [
    "## Plot rounded"
   ]
  },
  {
   "cell_type": "code",
   "execution_count": 30,
   "metadata": {
    "collapsed": false
   },
   "outputs": [],
   "source": [
    "# Set image limits\n",
    "extent=[min(rounded.x - 6.55), max(rounded.x + 5.55),\n",
    "       min(rounded.y - 4.6),max(rounded.y + 11.4)]"
   ]
  },
  {
   "cell_type": "code",
   "execution_count": 37,
   "metadata": {
    "collapsed": false
   },
   "outputs": [
    {
     "name": "stdout",
     "output_type": "stream",
     "text": [
      "Populating the interactive namespace from numpy and matplotlib\n"
     ]
    }
   ],
   "source": [
    "%pylab qt"
   ]
  },
  {
   "cell_type": "code",
   "execution_count": 38,
   "metadata": {
    "collapsed": false
   },
   "outputs": [],
   "source": [
    "rounded.plot(kind='scatter', x='x', y='y', c='link',\n",
    "             s=rounded.link, linewidth=0, alpha=0.5,\n",
    "             grid=None, cmap=\"winter\")  # cmap=*_r is reversed version of the cmap\n",
    "img = plt.imread('roboticslab_complete_clean.png')\n",
    "implot = plt.imshow(img, extent=extent, cmap='Greys_r')\n",
    "axes().set_aspect('equal', 'datalim')\n",
    "plt.grid(b=None)\n",
    "#plt.savefig('wifi_coverage.pdf', grid=None, transparent=False, dpi=300)"
   ]
  },
  {
   "cell_type": "markdown",
   "metadata": {},
   "source": [
    "# SaveFig"
   ]
  },
  {
   "cell_type": "code",
   "execution_count": 33,
   "metadata": {
    "collapsed": false
   },
   "outputs": [
    {
     "name": "stdout",
     "output_type": "stream",
     "text": [
      "Populating the interactive namespace from numpy and matplotlib\n"
     ]
    }
   ],
   "source": [
    "%pylab inline"
   ]
  },
  {
   "cell_type": "code",
   "execution_count": 39,
   "metadata": {
    "collapsed": false
   },
   "outputs": [],
   "source": [
    "rounded.plot(kind='scatter', x='x', y='y', c='link',\n",
    "             s=rounded.link/25, linewidth=0, alpha=0.5,\n",
    "             grid=None, cmap=\"winter\")  # cmap=*_r is reversed version of the cmap\n",
    "img = plt.imread('roboticslab_complete_clean.png')\n",
    "implot = plt.imshow(img, extent=extent, cmap='Greys_r')\n",
    "axes().set_aspect('equal', 'datalim')\n",
    "plt.grid(b=None)\n",
    "plt.savefig('wifi_coverage.pdf', grid=None, transparent=False, dpi=300)"
   ]
  },
  {
   "cell_type": "code",
   "execution_count": null,
   "metadata": {
    "collapsed": true
   },
   "outputs": [],
   "source": []
  }
 ],
 "metadata": {
  "kernelspec": {
   "display_name": "Python 2",
   "language": "python",
   "name": "python2"
  },
  "language_info": {
   "codemirror_mode": {
    "name": "ipython",
    "version": 2
   },
   "file_extension": ".py",
   "mimetype": "text/x-python",
   "name": "python",
   "nbconvert_exporter": "python",
   "pygments_lexer": "ipython2",
   "version": "2.7.3"
  }
 },
 "nbformat": 4,
 "nbformat_minor": 0
}
