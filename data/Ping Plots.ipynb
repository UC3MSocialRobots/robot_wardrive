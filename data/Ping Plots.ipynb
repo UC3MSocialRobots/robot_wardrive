{
 "cells": [
  {
   "cell_type": "code",
   "execution_count": 6,
   "metadata": {
    "collapsed": false
   },
   "outputs": [],
   "source": [
    "import numpy as np\n",
    "import pandas as pd\n",
    "import toolz as tz\n",
    "import itertools as it\n",
    "import functools as ft\n",
    "\n",
    "import seaborn as sns\n",
    "\n",
    "import rospy\n",
    "from rosh import Bagy\n",
    "\n",
    "from robot_wardrive.msg import SignalLocation, PingLocation"
   ]
  },
  {
   "cell_type": "markdown",
   "metadata": {},
   "source": [
    "# Load Data"
   ]
  },
  {
   "cell_type": "code",
   "execution_count": 7,
   "metadata": {
    "collapsed": false
   },
   "outputs": [
    {
     "name": "stdout",
     "output_type": "stream",
     "text": [
      "2015-06-08-10-52_google.bagy  2015-06-08-10-52_signal_location.bagy\r\n",
      "2015-06-08-10-52_google.csv   2015-06-08-15-42_google.bagy\r\n",
      "2015-06-08-10-52_mpc.bagy     2015-06-08-15-42_mpc.bagy\r\n",
      "2015-06-08-10-52_mpc.csv\r\n"
     ]
    }
   ],
   "source": [
    "ls patrolling_2015-06-08/"
   ]
  },
  {
   "cell_type": "code",
   "execution_count": null,
   "metadata": {
    "collapsed": true
   },
   "outputs": [],
   "source": []
  },
  {
   "cell_type": "code",
   "execution_count": 24,
   "metadata": {
    "collapsed": true
   },
   "outputs": [],
   "source": [
    "def read_bagy(msg_type, bagy_name):\n",
    "    \"\"\"Read a single bagy and return it as a pandas.DataFrame.\"\"\"\n",
    "    msgs = None\n",
    "    with Bagy(bagy_name, 'r', PingLocation) as bagy:\n",
    "        msgs = pd.DataFrame([(msg.header.stamp.secs, msg.pose.position.x, msg.pose.position.y, msg.delay) for msg in bagy], columns=columns)\n",
    "    return msgs\n",
    "\n",
    "def read_bagys(msg_type, *bagys):\n",
    "    \"\"\"Read several bagys and return them as a pandas.DataFrame.\"\"\"\n",
    "    dataframes = (read_bagy(msg_type, bagy) for bagy in bagys)\n",
    "    return pd.concat(list(dataframes))\n",
    "    \n",
    "    \n"
   ]
  },
  {
   "cell_type": "code",
   "execution_count": 19,
   "metadata": {
    "collapsed": false
   },
   "outputs": [
    {
     "data": {
      "text/html": [
       "<div style=\"max-height:1000px;max-width:1500px;overflow:auto;\">\n",
       "<table border=\"1\" class=\"dataframe\">\n",
       "  <thead>\n",
       "    <tr style=\"text-align: right;\">\n",
       "      <th></th>\n",
       "      <th>secs</th>\n",
       "      <th>x</th>\n",
       "      <th>y</th>\n",
       "      <th>delay</th>\n",
       "    </tr>\n",
       "  </thead>\n",
       "  <tbody>\n",
       "    <tr>\n",
       "      <th>1</th>\n",
       "      <td> 1433753552</td>\n",
       "      <td> 15.49182</td>\n",
       "      <td> 32.360715</td>\n",
       "      <td> 2.71</td>\n",
       "    </tr>\n",
       "    <tr>\n",
       "      <th>2</th>\n",
       "      <td> 1433753552</td>\n",
       "      <td> 15.49182</td>\n",
       "      <td> 32.360715</td>\n",
       "      <td> 3.25</td>\n",
       "    </tr>\n",
       "    <tr>\n",
       "      <th>3</th>\n",
       "      <td> 1433753553</td>\n",
       "      <td> 15.49182</td>\n",
       "      <td> 32.360715</td>\n",
       "      <td> 2.76</td>\n",
       "    </tr>\n",
       "    <tr>\n",
       "      <th>4</th>\n",
       "      <td> 1433753553</td>\n",
       "      <td> 15.49182</td>\n",
       "      <td> 32.360715</td>\n",
       "      <td> 2.74</td>\n",
       "    </tr>\n",
       "    <tr>\n",
       "      <th>5</th>\n",
       "      <td> 1433753554</td>\n",
       "      <td> 15.49182</td>\n",
       "      <td> 32.360715</td>\n",
       "      <td> 3.07</td>\n",
       "    </tr>\n",
       "  </tbody>\n",
       "</table>\n",
       "</div>"
      ],
      "text/plain": [
       "         secs         x          y  delay\n",
       "1  1433753552  15.49182  32.360715   2.71\n",
       "2  1433753552  15.49182  32.360715   3.25\n",
       "3  1433753553  15.49182  32.360715   2.76\n",
       "4  1433753553  15.49182  32.360715   2.74\n",
       "5  1433753554  15.49182  32.360715   3.07"
      ]
     },
     "execution_count": 19,
     "metadata": {},
     "output_type": "execute_result"
    }
   ],
   "source": [
    "msgs = None\n",
    "columns=['secs', 'x', 'y', 'delay']\n",
    "\n",
    "bagy_name = 'patrolling_2015-06-08/2015-06-08-10-52_google.bagy'\n",
    "with Bagy(bagy_name, 'r', PingLocation) as bagy:\n",
    "    msgs = pd.DataFrame([(msg.header.stamp.secs, msg.pose.position.x, msg.pose.position.y, msg.delay) for msg in bagy], columns=columns)\n",
    "\n",
    "msgs[msgs.x != 0.0].head()\n",
    "    \n",
    "#msgs = msgs.ix[1:]"
   ]
  },
  {
   "cell_type": "code",
   "execution_count": 29,
   "metadata": {
    "collapsed": true
   },
   "outputs": [],
   "source": [
    "columns=['secs', 'x', 'y', 'delay']\n",
    "\n",
    "bagy_names = ['patrolling_2015-06-08/2015-06-08-10-52_google.bagy',\n",
    "              'patrolling_2015-06-12/2015-06-12-12-11_google.bagy']\n",
    "\n",
    "msgs = read_bagys(PingLocation, *bagy_names)\n",
    "msgs = msgs[msgs.x != 0.0]   # Strip values of x=0"
   ]
  },
  {
   "cell_type": "code",
   "execution_count": 26,
   "metadata": {
    "collapsed": true
   },
   "outputs": [],
   "source": [
    "# msgs.to_csv('2015-06-08-10-52_google.csv')"
   ]
  },
  {
   "cell_type": "code",
   "execution_count": 30,
   "metadata": {
    "collapsed": false
   },
   "outputs": [
    {
     "data": {
      "text/html": [
       "<div style=\"max-height:1000px;max-width:1500px;overflow:auto;\">\n",
       "<table border=\"1\" class=\"dataframe\">\n",
       "  <thead>\n",
       "    <tr style=\"text-align: right;\">\n",
       "      <th></th>\n",
       "      <th>secs</th>\n",
       "      <th>x</th>\n",
       "      <th>y</th>\n",
       "      <th>delay</th>\n",
       "    </tr>\n",
       "  </thead>\n",
       "  <tbody>\n",
       "    <tr>\n",
       "      <th>1</th>\n",
       "      <td> 1433753552</td>\n",
       "      <td> 15.49182</td>\n",
       "      <td> 32.360715</td>\n",
       "      <td> 2.71</td>\n",
       "    </tr>\n",
       "    <tr>\n",
       "      <th>2</th>\n",
       "      <td> 1433753552</td>\n",
       "      <td> 15.49182</td>\n",
       "      <td> 32.360715</td>\n",
       "      <td> 3.25</td>\n",
       "    </tr>\n",
       "    <tr>\n",
       "      <th>3</th>\n",
       "      <td> 1433753553</td>\n",
       "      <td> 15.49182</td>\n",
       "      <td> 32.360715</td>\n",
       "      <td> 2.76</td>\n",
       "    </tr>\n",
       "    <tr>\n",
       "      <th>4</th>\n",
       "      <td> 1433753553</td>\n",
       "      <td> 15.49182</td>\n",
       "      <td> 32.360715</td>\n",
       "      <td> 2.74</td>\n",
       "    </tr>\n",
       "    <tr>\n",
       "      <th>5</th>\n",
       "      <td> 1433753554</td>\n",
       "      <td> 15.49182</td>\n",
       "      <td> 32.360715</td>\n",
       "      <td> 3.07</td>\n",
       "    </tr>\n",
       "  </tbody>\n",
       "</table>\n",
       "</div>"
      ],
      "text/plain": [
       "         secs         x          y  delay\n",
       "1  1433753552  15.49182  32.360715   2.71\n",
       "2  1433753552  15.49182  32.360715   3.25\n",
       "3  1433753553  15.49182  32.360715   2.76\n",
       "4  1433753553  15.49182  32.360715   2.74\n",
       "5  1433753554  15.49182  32.360715   3.07"
      ]
     },
     "execution_count": 30,
     "metadata": {},
     "output_type": "execute_result"
    }
   ],
   "source": [
    "msgs.head()"
   ]
  },
  {
   "cell_type": "code",
   "execution_count": 31,
   "metadata": {
    "collapsed": false
   },
   "outputs": [
    {
     "data": {
      "text/html": [
       "<div style=\"max-height:1000px;max-width:1500px;overflow:auto;\">\n",
       "<table border=\"1\" class=\"dataframe\">\n",
       "  <thead>\n",
       "    <tr style=\"text-align: right;\">\n",
       "      <th></th>\n",
       "      <th>secs</th>\n",
       "      <th>x</th>\n",
       "      <th>y</th>\n",
       "      <th>delay</th>\n",
       "    </tr>\n",
       "  </thead>\n",
       "  <tbody>\n",
       "    <tr>\n",
       "      <th>count</th>\n",
       "      <td> 1.928700e+04</td>\n",
       "      <td> 19287.000000</td>\n",
       "      <td> 19287.000000</td>\n",
       "      <td> 19287.000000</td>\n",
       "    </tr>\n",
       "    <tr>\n",
       "      <th>mean</th>\n",
       "      <td> 1.433897e+09</td>\n",
       "      <td>    13.154439</td>\n",
       "      <td>    43.989605</td>\n",
       "      <td>     8.525823</td>\n",
       "    </tr>\n",
       "    <tr>\n",
       "      <th>std</th>\n",
       "      <td> 1.712069e+05</td>\n",
       "      <td>     1.634647</td>\n",
       "      <td>    24.974299</td>\n",
       "      <td>    71.478673</td>\n",
       "    </tr>\n",
       "    <tr>\n",
       "      <th>min</th>\n",
       "      <td> 1.433754e+09</td>\n",
       "      <td>     7.062708</td>\n",
       "      <td>     3.973411</td>\n",
       "      <td>     2.570000</td>\n",
       "    </tr>\n",
       "    <tr>\n",
       "      <th>25%</th>\n",
       "      <td> 1.433756e+09</td>\n",
       "      <td>    11.983480</td>\n",
       "      <td>    32.798076</td>\n",
       "      <td>     2.720000</td>\n",
       "    </tr>\n",
       "    <tr>\n",
       "      <th>50%</th>\n",
       "      <td> 1.433759e+09</td>\n",
       "      <td>    13.840187</td>\n",
       "      <td>    33.668992</td>\n",
       "      <td>     2.780000</td>\n",
       "    </tr>\n",
       "    <tr>\n",
       "      <th>75%</th>\n",
       "      <td> 1.434106e+09</td>\n",
       "      <td>    13.979883</td>\n",
       "      <td>    56.363860</td>\n",
       "      <td>     3.140000</td>\n",
       "    </tr>\n",
       "    <tr>\n",
       "      <th>max</th>\n",
       "      <td> 1.434109e+09</td>\n",
       "      <td>    19.220119</td>\n",
       "      <td>   109.012535</td>\n",
       "      <td>  2968.000000</td>\n",
       "    </tr>\n",
       "  </tbody>\n",
       "</table>\n",
       "</div>"
      ],
      "text/plain": [
       "               secs             x             y         delay\n",
       "count  1.928700e+04  19287.000000  19287.000000  19287.000000\n",
       "mean   1.433897e+09     13.154439     43.989605      8.525823\n",
       "std    1.712069e+05      1.634647     24.974299     71.478673\n",
       "min    1.433754e+09      7.062708      3.973411      2.570000\n",
       "25%    1.433756e+09     11.983480     32.798076      2.720000\n",
       "50%    1.433759e+09     13.840187     33.668992      2.780000\n",
       "75%    1.434106e+09     13.979883     56.363860      3.140000\n",
       "max    1.434109e+09     19.220119    109.012535   2968.000000"
      ]
     },
     "execution_count": 31,
     "metadata": {},
     "output_type": "execute_result"
    }
   ],
   "source": [
    "msgs.describe()"
   ]
  },
  {
   "cell_type": "markdown",
   "metadata": {},
   "source": [
    "# Plots"
   ]
  },
  {
   "cell_type": "markdown",
   "metadata": {},
   "source": [
    "#Rounding "
   ]
  },
  {
   "cell_type": "code",
   "execution_count": 32,
   "metadata": {
    "collapsed": false
   },
   "outputs": [],
   "source": [
    "rounded = msgs.apply(np.round, decimals=1)"
   ]
  },
  {
   "cell_type": "code",
   "execution_count": 33,
   "metadata": {
    "collapsed": false
   },
   "outputs": [
    {
     "data": {
      "text/html": [
       "<div style=\"max-height:1000px;max-width:1500px;overflow:auto;\">\n",
       "<table border=\"1\" class=\"dataframe\">\n",
       "  <thead>\n",
       "    <tr style=\"text-align: right;\">\n",
       "      <th></th>\n",
       "      <th>secs</th>\n",
       "      <th>x</th>\n",
       "      <th>y</th>\n",
       "      <th>delay</th>\n",
       "    </tr>\n",
       "  </thead>\n",
       "  <tbody>\n",
       "    <tr>\n",
       "      <th>count</th>\n",
       "      <td> 1.928700e+04</td>\n",
       "      <td> 19287.000000</td>\n",
       "      <td> 19287.000000</td>\n",
       "      <td> 19287.000000</td>\n",
       "    </tr>\n",
       "    <tr>\n",
       "      <th>mean</th>\n",
       "      <td> 1.433897e+09</td>\n",
       "      <td>    13.160129</td>\n",
       "      <td>    44.000861</td>\n",
       "      <td>     8.525613</td>\n",
       "    </tr>\n",
       "    <tr>\n",
       "      <th>std</th>\n",
       "      <td> 1.712069e+05</td>\n",
       "      <td>     1.640746</td>\n",
       "      <td>    24.970609</td>\n",
       "      <td>    71.478698</td>\n",
       "    </tr>\n",
       "    <tr>\n",
       "      <th>min</th>\n",
       "      <td> 1.433754e+09</td>\n",
       "      <td>     7.100000</td>\n",
       "      <td>     4.000000</td>\n",
       "      <td>     2.600000</td>\n",
       "    </tr>\n",
       "    <tr>\n",
       "      <th>25%</th>\n",
       "      <td> 1.433756e+09</td>\n",
       "      <td>    12.000000</td>\n",
       "      <td>    32.800000</td>\n",
       "      <td>     2.700000</td>\n",
       "    </tr>\n",
       "    <tr>\n",
       "      <th>50%</th>\n",
       "      <td> 1.433759e+09</td>\n",
       "      <td>    13.800000</td>\n",
       "      <td>    33.700000</td>\n",
       "      <td>     2.800000</td>\n",
       "    </tr>\n",
       "    <tr>\n",
       "      <th>75%</th>\n",
       "      <td> 1.434106e+09</td>\n",
       "      <td>    14.000000</td>\n",
       "      <td>    56.400000</td>\n",
       "      <td>     3.100000</td>\n",
       "    </tr>\n",
       "    <tr>\n",
       "      <th>max</th>\n",
       "      <td> 1.434109e+09</td>\n",
       "      <td>    19.200000</td>\n",
       "      <td>   109.000000</td>\n",
       "      <td>  2968.000000</td>\n",
       "    </tr>\n",
       "  </tbody>\n",
       "</table>\n",
       "</div>"
      ],
      "text/plain": [
       "               secs             x             y         delay\n",
       "count  1.928700e+04  19287.000000  19287.000000  19287.000000\n",
       "mean   1.433897e+09     13.160129     44.000861      8.525613\n",
       "std    1.712069e+05      1.640746     24.970609     71.478698\n",
       "min    1.433754e+09      7.100000      4.000000      2.600000\n",
       "25%    1.433756e+09     12.000000     32.800000      2.700000\n",
       "50%    1.433759e+09     13.800000     33.700000      2.800000\n",
       "75%    1.434106e+09     14.000000     56.400000      3.100000\n",
       "max    1.434109e+09     19.200000    109.000000   2968.000000"
      ]
     },
     "execution_count": 33,
     "metadata": {},
     "output_type": "execute_result"
    }
   ],
   "source": [
    "rounded.describe()"
   ]
  },
  {
   "cell_type": "code",
   "execution_count": 34,
   "metadata": {
    "collapsed": false
   },
   "outputs": [],
   "source": [
    "rounded = rounded.groupby(['x', 'y']).median().reset_index(inplace=False)\n"
   ]
  },
  {
   "cell_type": "code",
   "execution_count": 35,
   "metadata": {
    "collapsed": false
   },
   "outputs": [
    {
     "data": {
      "text/html": [
       "<div style=\"max-height:1000px;max-width:1500px;overflow:auto;\">\n",
       "<table border=\"1\" class=\"dataframe\">\n",
       "  <thead>\n",
       "    <tr style=\"text-align: right;\">\n",
       "      <th></th>\n",
       "      <th>x</th>\n",
       "      <th>y</th>\n",
       "      <th>secs</th>\n",
       "      <th>delay</th>\n",
       "    </tr>\n",
       "  </thead>\n",
       "  <tbody>\n",
       "    <tr>\n",
       "      <th>0</th>\n",
       "      <td> 7.1</td>\n",
       "      <td> 15.4</td>\n",
       "      <td> 1433754372</td>\n",
       "      <td>  7.20</td>\n",
       "    </tr>\n",
       "    <tr>\n",
       "      <th>1</th>\n",
       "      <td> 7.1</td>\n",
       "      <td> 15.5</td>\n",
       "      <td> 1433754367</td>\n",
       "      <td> 23.60</td>\n",
       "    </tr>\n",
       "    <tr>\n",
       "      <th>2</th>\n",
       "      <td> 7.2</td>\n",
       "      <td> 15.6</td>\n",
       "      <td> 1433754375</td>\n",
       "      <td>  3.40</td>\n",
       "    </tr>\n",
       "    <tr>\n",
       "      <th>3</th>\n",
       "      <td> 7.3</td>\n",
       "      <td> 15.6</td>\n",
       "      <td> 1433754363</td>\n",
       "      <td> 79.85</td>\n",
       "    </tr>\n",
       "    <tr>\n",
       "      <th>4</th>\n",
       "      <td> 7.3</td>\n",
       "      <td> 15.7</td>\n",
       "      <td> 1433754376</td>\n",
       "      <td>  4.00</td>\n",
       "    </tr>\n",
       "  </tbody>\n",
       "</table>\n",
       "</div>"
      ],
      "text/plain": [
       "     x     y        secs  delay\n",
       "0  7.1  15.4  1433754372   7.20\n",
       "1  7.1  15.5  1433754367  23.60\n",
       "2  7.2  15.6  1433754375   3.40\n",
       "3  7.3  15.6  1433754363  79.85\n",
       "4  7.3  15.7  1433754376   4.00"
      ]
     },
     "execution_count": 35,
     "metadata": {},
     "output_type": "execute_result"
    }
   ],
   "source": [
    "rounded.head()"
   ]
  },
  {
   "cell_type": "code",
   "execution_count": 36,
   "metadata": {
    "collapsed": false
   },
   "outputs": [
    {
     "data": {
      "text/html": [
       "<div style=\"max-height:1000px;max-width:1500px;overflow:auto;\">\n",
       "<table border=\"1\" class=\"dataframe\">\n",
       "  <thead>\n",
       "    <tr style=\"text-align: right;\">\n",
       "      <th></th>\n",
       "      <th>x</th>\n",
       "      <th>y</th>\n",
       "      <th>secs</th>\n",
       "      <th>delay</th>\n",
       "    </tr>\n",
       "  </thead>\n",
       "  <tbody>\n",
       "    <tr>\n",
       "      <th>count</th>\n",
       "      <td> 5051.000000</td>\n",
       "      <td> 5051.000000</td>\n",
       "      <td> 5.051000e+03</td>\n",
       "      <td> 5051.000000</td>\n",
       "    </tr>\n",
       "    <tr>\n",
       "      <th>mean</th>\n",
       "      <td>   12.726925</td>\n",
       "      <td>   53.003069</td>\n",
       "      <td> 1.433975e+09</td>\n",
       "      <td>    9.086874</td>\n",
       "    </tr>\n",
       "    <tr>\n",
       "      <th>std</th>\n",
       "      <td>    1.719980</td>\n",
       "      <td>   27.891478</td>\n",
       "      <td> 1.609014e+05</td>\n",
       "      <td>   76.864608</td>\n",
       "    </tr>\n",
       "    <tr>\n",
       "      <th>min</th>\n",
       "      <td>    7.100000</td>\n",
       "      <td>    4.000000</td>\n",
       "      <td> 1.433754e+09</td>\n",
       "      <td>    2.600000</td>\n",
       "    </tr>\n",
       "    <tr>\n",
       "      <th>25%</th>\n",
       "      <td>   11.800000</td>\n",
       "      <td>   30.600000</td>\n",
       "      <td> 1.433755e+09</td>\n",
       "      <td>    2.750000</td>\n",
       "    </tr>\n",
       "    <tr>\n",
       "      <th>50%</th>\n",
       "      <td>   12.000000</td>\n",
       "      <td>   51.200000</td>\n",
       "      <td> 1.434105e+09</td>\n",
       "      <td>    2.800000</td>\n",
       "    </tr>\n",
       "    <tr>\n",
       "      <th>75%</th>\n",
       "      <td>   12.900000</td>\n",
       "      <td>   76.400000</td>\n",
       "      <td> 1.434106e+09</td>\n",
       "      <td>    3.350000</td>\n",
       "    </tr>\n",
       "    <tr>\n",
       "      <th>max</th>\n",
       "      <td>   19.200000</td>\n",
       "      <td>  109.000000</td>\n",
       "      <td> 1.434109e+09</td>\n",
       "      <td> 2443.000000</td>\n",
       "    </tr>\n",
       "  </tbody>\n",
       "</table>\n",
       "</div>"
      ],
      "text/plain": [
       "                 x            y          secs        delay\n",
       "count  5051.000000  5051.000000  5.051000e+03  5051.000000\n",
       "mean     12.726925    53.003069  1.433975e+09     9.086874\n",
       "std       1.719980    27.891478  1.609014e+05    76.864608\n",
       "min       7.100000     4.000000  1.433754e+09     2.600000\n",
       "25%      11.800000    30.600000  1.433755e+09     2.750000\n",
       "50%      12.000000    51.200000  1.434105e+09     2.800000\n",
       "75%      12.900000    76.400000  1.434106e+09     3.350000\n",
       "max      19.200000   109.000000  1.434109e+09  2443.000000"
      ]
     },
     "execution_count": 36,
     "metadata": {},
     "output_type": "execute_result"
    }
   ],
   "source": [
    "rounded.describe()"
   ]
  },
  {
   "cell_type": "markdown",
   "metadata": {},
   "source": [
    "## Plot Hexbin "
   ]
  },
  {
   "cell_type": "code",
   "execution_count": 39,
   "metadata": {
    "collapsed": false
   },
   "outputs": [
    {
     "name": "stdout",
     "output_type": "stream",
     "text": [
      "Populating the interactive namespace from numpy and matplotlib\n"
     ]
    }
   ],
   "source": [
    "%pylab qt\n",
    "plt.hexbin(msgs.x, msgs.y, msgs.delay, gridsize=80,\n",
    "           reduce_C_function=np.median, bins='log',\n",
    "           cmap='winter', alpha=0.5, linewidths=0.1, label='log(ping)')\n",
    "plt.colorbar()\n",
    "img = plt.imread('roboticslab_complete_clean.png')\n",
    "implot = plt.imshow(img, extent=extent, cmap='Greys_r')\n",
    "axes().set_aspect('equal', 'datalim')\n",
    "plt.grid(b=None)\n",
    "plt.savefig('ping_locations_hexbin.pdf', grid=None, transparent=False, dpi=300)"
   ]
  },
  {
   "cell_type": "markdown",
   "metadata": {},
   "source": [
    "## Plot rounded scatter"
   ]
  },
  {
   "cell_type": "code",
   "execution_count": 40,
   "metadata": {
    "collapsed": false
   },
   "outputs": [],
   "source": [
    "# Set image limits\n",
    "extent=[min(rounded.x - 6.55), max(rounded.x + 5.55),\n",
    "       min(rounded.y - 4.6),max(rounded.y + 11.4)]"
   ]
  },
  {
   "cell_type": "code",
   "execution_count": 41,
   "metadata": {
    "collapsed": false
   },
   "outputs": [
    {
     "name": "stdout",
     "output_type": "stream",
     "text": [
      "Populating the interactive namespace from numpy and matplotlib\n"
     ]
    }
   ],
   "source": [
    "%pylab qt"
   ]
  },
  {
   "cell_type": "code",
   "execution_count": 42,
   "metadata": {
    "collapsed": false
   },
   "outputs": [],
   "source": [
    "rounded.plot(kind='scatter', x='x', y='y', c='delay', marker='s',\n",
    "             # s=rounded.delay/2, linewidth=0, alpha=0.5,\n",
    "             s=rounded.delay/2, linewidth=0, alpha=0.5,\n",
    "             grid=None, cmap=\"winter\")  # cmap=*_r is reversed version of the cmap\n",
    "img = plt.imread('roboticslab_complete_clean.png')\n",
    "implot = plt.imshow(img, extent=extent, cmap='Greys_r')\n",
    "axes().set_aspect('equal', 'datalim')\n",
    "plt.grid(b=None)\n",
    "plt.savefig('ping_locations.pdf', grid=None, transparent=False, dpi=300)"
   ]
  },
  {
   "cell_type": "markdown",
   "metadata": {},
   "source": [
    "# Timestamp vs delay\n"
   ]
  },
  {
   "cell_type": "code",
   "execution_count": 43,
   "metadata": {
    "collapsed": false
   },
   "outputs": [
    {
     "name": "stdout",
     "output_type": "stream",
     "text": [
      "Populating the interactive namespace from numpy and matplotlib\n"
     ]
    }
   ],
   "source": [
    "%pylab inline"
   ]
  },
  {
   "cell_type": "code",
   "execution_count": 44,
   "metadata": {
    "collapsed": false
   },
   "outputs": [
    {
     "data": {
      "text/plain": [
       "<matplotlib.axes.AxesSubplot at 0xc98eb4c>"
      ]
     },
     "execution_count": 44,
     "metadata": {},
     "output_type": "execute_result"
    },
    {
     "data": {
      "image/png": "[encoded data removed]",
      "text/plain": [
       "<matplotlib.figure.Figure at 0xc98e0ec>"
      ]
     },
     "metadata": {},
     "output_type": "display_data"
    }
   ],
   "source": [
    "msgs.delay.plot()"
   ]
  },
  {
   "cell_type": "code",
   "execution_count": 45,
   "metadata": {
    "collapsed": false
   },
   "outputs": [
    {
     "data": {
      "text/plain": [
       "[<matplotlib.lines.Line2D at 0xd372e0c>]"
      ]
     },
     "execution_count": 45,
     "metadata": {},
     "output_type": "execute_result"
    },
    {
     "data": {
      "image/png": "[encoded data removed]",
      "text/plain": [
       "<matplotlib.figure.Figure at 0xd110e6c>"
      ]
     },
     "metadata": {},
     "output_type": "display_data"
    }
   ],
   "source": [
    "plt.plot(msgs.secs, msgs.delay, '.')"
   ]
  },
  {
   "cell_type": "code",
   "execution_count": 46,
   "metadata": {
    "collapsed": false
   },
   "outputs": [
    {
     "data": {
      "image/png": "[encoded data removed]",
      "text/plain": [
       "<matplotlib.figure.Figure at 0xd0e932c>"
      ]
     },
     "metadata": {},
     "output_type": "display_data"
    }
   ],
   "source": [
    "pd.rolling_sum(msgs, 2).plot(subplots=True)\n",
    "plt.savefig('test.pdf', ls=0.1)"
   ]
  },
  {
   "cell_type": "code",
   "execution_count": 47,
   "metadata": {
    "collapsed": true
   },
   "outputs": [],
   "source": [
    "msgs_patrolling = msgs[0:5500]\n",
    "msgs_docked = msgs[6000:]"
   ]
  },
  {
   "cell_type": "code",
   "execution_count": 48,
   "metadata": {
    "collapsed": false
   },
   "outputs": [
    {
     "data": {
      "image/png": "[encoded data removed]",
      "text/plain": [
       "<matplotlib.figure.Figure at 0xd0e924c>"
      ]
     },
     "metadata": {},
     "output_type": "display_data"
    }
   ],
   "source": [
    "pd.rolling_sum(msgs_docked, 6).plot(subplots=True)\n",
    "plt.savefig('test_docked.pdf', ls=0.1)"
   ]
  },
  {
   "cell_type": "code",
   "execution_count": 49,
   "metadata": {
    "collapsed": false
   },
   "outputs": [
    {
     "data": {
      "text/plain": [
       "array([<matplotlib.axes.AxesSubplot object at 0xe15026c>,\n",
       "       <matplotlib.axes.AxesSubplot object at 0xcda90ac>,\n",
       "       <matplotlib.axes.AxesSubplot object at 0xd6bf1ac>,\n",
       "       <matplotlib.axes.AxesSubplot object at 0xcd701cc>], dtype=object)"
      ]
     },
     "execution_count": 49,
     "metadata": {},
     "output_type": "execute_result"
    },
    {
     "data": {
      "image/png": "[encoded data removed]",
      "text/plain": [
       "<matplotlib.figure.Figure at 0xe1e0d8c>"
      ]
     },
     "metadata": {},
     "output_type": "display_data"
    }
   ],
   "source": [
    "pd.rolling_sum(msgs_patrolling, 6).plot(subplots=True)\n",
    "# plt.savefig('test_patrolling.pdf', ls=0.1)"
   ]
  },
  {
   "cell_type": "code",
   "execution_count": null,
   "metadata": {
    "collapsed": true
   },
   "outputs": [],
   "source": []
  },
  {
   "cell_type": "markdown",
   "metadata": {},
   "source": [
    "# Plot Docked"
   ]
  },
  {
   "cell_type": "code",
   "execution_count": 50,
   "metadata": {
    "collapsed": false
   },
   "outputs": [
    {
     "data": {
      "text/plain": [
       "[<matplotlib.lines.Line2D at 0xd0a306c>]"
      ]
     },
     "execution_count": 50,
     "metadata": {},
     "output_type": "execute_result"
    },
    {
     "data": {
      "image/png": "[encoded data removed]",
      "text/plain": [
       "<matplotlib.figure.Figure at 0xcd7430c>"
      ]
     },
     "metadata": {},
     "output_type": "display_data"
    }
   ],
   "source": [
    "plt.plot(msgs_docked.secs, msgs_docked.delay, '.')"
   ]
  },
  {
   "cell_type": "code",
   "execution_count": 51,
   "metadata": {
    "collapsed": false
   },
   "outputs": [
    {
     "data": {
      "text/plain": [
       "<matplotlib.axes.AxesSubplot at 0xcffeb0c>"
      ]
     },
     "execution_count": 51,
     "metadata": {},
     "output_type": "execute_result"
    },
    {
     "data": {
      "image/png": "[encoded data removed]",
      "text/plain": [
       "<matplotlib.figure.Figure at 0xe1629cc>"
      ]
     },
     "metadata": {},
     "output_type": "display_data"
    }
   ],
   "source": [
    "import operator as op\n",
    "pd.rolling_apply(msgs_docked.secs, 2, np.diff).plot()"
   ]
  },
  {
   "cell_type": "markdown",
   "metadata": {},
   "source": [
    "# Plot Patrolling"
   ]
  },
  {
   "cell_type": "code",
   "execution_count": 52,
   "metadata": {
    "collapsed": false
   },
   "outputs": [
    {
     "data": {
      "text/plain": [
       "[<matplotlib.lines.Line2D at 0xe1dadcc>]"
      ]
     },
     "execution_count": 52,
     "metadata": {},
     "output_type": "execute_result"
    },
    {
     "data": {
      "image/png": "[encoded data removed]",
      "text/plain": [
       "<matplotlib.figure.Figure at 0xe1f07ac>"
      ]
     },
     "metadata": {},
     "output_type": "display_data"
    }
   ],
   "source": [
    "plt.plot(msgs_patrolling.secs, msgs_patrolling.delay, '.')"
   ]
  },
  {
   "cell_type": "markdown",
   "metadata": {},
   "source": [
    "### Plot Network Losses"
   ]
  },
  {
   "cell_type": "code",
   "execution_count": 212,
   "metadata": {
    "collapsed": false
   },
   "outputs": [
    {
     "name": "stdout",
     "output_type": "stream",
     "text": [
      "Populating the interactive namespace from numpy and matplotlib\n"
     ]
    },
    {
     "data": {
      "text/plain": [
       "<matplotlib.axes.AxesSubplot at 0xca785ac>"
      ]
     },
     "execution_count": 212,
     "metadata": {},
     "output_type": "execute_result"
    },
    {
     "data": {
      "image/png": "[encoded data removed]",
      "text/plain": [
       "<matplotlib.figure.Figure at 0x11cc0eac>"
      ]
     },
     "metadata": {},
     "output_type": "display_data"
    }
   ],
   "source": [
    "%pylab inline\n",
    "import operator as op\n",
    "pd.rolling_apply(msgs_patrolling.secs, 2, np.diff).plot()"
   ]
  },
  {
   "cell_type": "markdown",
   "metadata": {},
   "source": [
    "# Measuring time between Network Losses"
   ]
  },
  {
   "cell_type": "markdown",
   "metadata": {},
   "source": [
    "Getting delay between messages when the robot was docked"
   ]
  },
  {
   "cell_type": "code",
   "execution_count": 184,
   "metadata": {
    "collapsed": false
   },
   "outputs": [
    {
     "data": {
      "text/plain": [
       "6001   NaN\n",
       "6002     1\n",
       "6003     0\n",
       "6004     1\n",
       "6005     0\n",
       "Name: secs, dtype: float64"
      ]
     },
     "execution_count": 184,
     "metadata": {},
     "output_type": "execute_result"
    }
   ],
   "source": [
    "delays = msgs_docked.secs - msgs_docked.secs.shift()\n",
    "delays.head()"
   ]
  },
  {
   "cell_type": "markdown",
   "metadata": {},
   "source": [
    "As you can see, mean delay is a bit higer than 0.5, which is the rate at which pings were sent"
   ]
  },
  {
   "cell_type": "code",
   "execution_count": 186,
   "metadata": {
    "collapsed": false
   },
   "outputs": [
    {
     "data": {
      "text/plain": [
       "count    5575.000000\n",
       "mean        0.538117\n",
       "std         0.767997\n",
       "min         0.000000\n",
       "25%         0.000000\n",
       "50%         1.000000\n",
       "75%         1.000000\n",
       "max        11.000000\n",
       "Name: secs, dtype: float64"
      ]
     },
     "execution_count": 186,
     "metadata": {},
     "output_type": "execute_result"
    }
   ],
   "source": [
    "delays.describe()"
   ]
  },
  {
   "cell_type": "markdown",
   "metadata": {},
   "source": [
    "Now we are going to discard normal messages and get only messages received after network losses so we can get the delay between them:"
   ]
  },
  {
   "cell_type": "code",
   "execution_count": null,
   "metadata": {
    "collapsed": true
   },
   "outputs": [],
   "source": []
  },
  {
   "cell_type": "code",
   "execution_count": 188,
   "metadata": {
    "collapsed": false
   },
   "outputs": [
    {
     "data": {
      "text/plain": [
       "0    6259\n",
       "1    6535\n",
       "2    6812\n",
       "3    7089\n",
       "4    7367\n",
       "dtype: int64"
      ]
     },
     "execution_count": 188,
     "metadata": {},
     "output_type": "execute_result"
    }
   ],
   "source": [
    "network_losses = pd.Series(delays[delays>1].index)\n",
    "network_losses.head()"
   ]
  },
  {
   "cell_type": "code",
   "execution_count": 190,
   "metadata": {
    "collapsed": false
   },
   "outputs": [
    {
     "data": {
      "text/plain": [
       "20"
      ]
     },
     "execution_count": 190,
     "metadata": {},
     "output_type": "execute_result"
    }
   ],
   "source": [
    "network_losses.count()"
   ]
  },
  {
   "cell_type": "markdown",
   "metadata": {},
   "source": [
    "As we can see, we've got 20 network losses in our dataset. Now let's measure how much time passed between them"
   ]
  },
  {
   "cell_type": "code",
   "execution_count": 197,
   "metadata": {
    "collapsed": false
   },
   "outputs": [
    {
     "data": {
      "text/plain": [
       "0     NaN\n",
       "1     138\n",
       "2     139\n",
       "3     138\n",
       "4     139\n",
       "5     138\n",
       "6     138\n",
       "7     139\n",
       "8     138\n",
       "9     139\n",
       "10    139\n",
       "11    138\n",
       "12    137\n",
       "13    138\n",
       "14    138\n",
       "15    138\n",
       "16    139\n",
       "17    137\n",
       "18    138\n",
       "19    139\n",
       "dtype: float64"
      ]
     },
     "execution_count": 197,
     "metadata": {},
     "output_type": "execute_result"
    }
   ],
   "source": [
    "time_between_losses = pd.rolling_apply(pd.Series(delays[delays>1].index/2), 2, np.diff)\n",
    "time_between_losses"
   ]
  },
  {
   "cell_type": "markdown",
   "metadata": {},
   "source": [
    "We can see that network losses have been fairly periodical with a mean period of almost **140 seconds**:"
   ]
  },
  {
   "cell_type": "code",
   "execution_count": 223,
   "metadata": {
    "collapsed": false
   },
   "outputs": [
    {
     "data": {
      "text/plain": [
       "138.26315789473685"
      ]
     },
     "execution_count": 223,
     "metadata": {},
     "output_type": "execute_result"
    }
   ],
   "source": [
    "time_between_losses.mean()"
   ]
  },
  {
   "cell_type": "code",
   "execution_count": 224,
   "metadata": {
    "collapsed": false
   },
   "outputs": [
    {
     "data": {
      "text/plain": [
       "<matplotlib.axes.AxesSubplot at 0x12eacd8c>"
      ]
     },
     "execution_count": 224,
     "metadata": {},
     "output_type": "execute_result"
    },
    {
     "data": {
      "image/png": "[encoded data removed]",
      "text/plain": [
       "<matplotlib.figure.Figure at 0x11c8c26c>"
      ]
     },
     "metadata": {},
     "output_type": "display_data"
    }
   ],
   "source": [
    "time_between_losses.plot(kind='bar')"
   ]
  },
  {
   "cell_type": "code",
   "execution_count": null,
   "metadata": {
    "collapsed": true
   },
   "outputs": [],
   "source": []
  }
 ],
 "metadata": {
  "kernelspec": {
   "display_name": "Python 2",
   "language": "python",
   "name": "python2"
  },
  "language_info": {
   "codemirror_mode": {
    "name": "ipython",
    "version": 2
   },
   "file_extension": ".py",
   "mimetype": "text/x-python",
   "name": "python",
   "nbconvert_exporter": "python",
   "pygments_lexer": "ipython2",
   "version": "2.7.3"
  }
 },
 "nbformat": 4,
 "nbformat_minor": 0
}
